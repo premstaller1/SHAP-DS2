{
 "cells": [
  {
   "cell_type": "code",
   "execution_count": 1,
   "metadata": {},
   "outputs": [],
   "source": [
    "from flask import Flask, request, jsonify\n",
    "from flask_cors import CORS\n",
    "import time\n",
    "import re\n",
    "\n",
    "def get_tweet_text(select_tweet):\n",
    "    if re.match(r'^[^@]+@[^@]+·', select_tweet):\n",
    "        text = re.sub(r'^[^@]+@[^@]+·', '', select_tweet)\n",
    "        text = re.sub(r'^(?:[A-Za-z]{3}\\s\\d+|\\d+[hm])', '', text)\n",
    "        last_word = text.split()\n",
    "        last_word = last_word[-1]\n",
    "        if bool(re.search(r'\\d', last_word)):\n",
    "            text = text.replace(last_word, '')\n",
    "            last_word = last_word[:re.search(r'\\d', last_word).start()]\n",
    "            text = text + last_word\n",
    "            return text\n",
    "        else:\n",
    "            return text\n",
    "    else:\n",
    "        return 'Tweet is an AD!'\n",
    "    "
   ]
  },
  {
   "cell_type": "code",
   "execution_count": null,
   "metadata": {},
   "outputs": [],
   "source": [
    "tweet_texts = []\n",
    "app = Flask(__name__)\n",
    "CORS(app)\n",
    "\n",
    "@app.route('/process', methods=['POST'])\n",
    "def process_text():\n",
    "    data = request.get_json()\n",
    "    tweet_text = data['text']\n",
    "\n",
    "    processed_text = get_tweet_text(tweet_text)[:15] #tweet_text[0:5]  # Example processing\n",
    "    #processed_text = get_fake_news_class(processed_text)\n",
    "    processed_text = 'FAKE NEWS'\n",
    "    time.sleep(2)\n",
    "    tweet_texts.append(tweet_text)\n",
    "    print(tweet_text)\n",
    "    return jsonify(processed_text)\n",
    "\n",
    "if __name__ == '__main__':\n",
    "    app.run(port=5000)"
   ]
  },
  {
   "cell_type": "code",
   "execution_count": 6,
   "metadata": {},
   "outputs": [
    {
     "name": "stdout",
     "output_type": "stream",
     "text": [
      "humans without context@HumansNoContext·20h\"That'll be $68,000,000 please\"4714.1K51K9.1M\n",
      "--------------------\n",
      "\n",
      "\n",
      "beyerdynamic@beyerdynamicAdErlebe grenzenlose Freude am Produzieren - mit unseren Studio-Kopfhörern & Mikrofonen!Slide 1 of 6 - Carouselbeyerdynamic.deStudio-Kopfhörer von beyerdynamic - Dein Must-Have im Studiobeyerdynamic.deDT 990 PRO (80 Ohm) B-Ware - Studio-Kopfhörerbeyerdynamic.deM 70 PRO X - Broadcast-Mikrofonbeyerdynamic.deDT 1770 PRO B-Ware - Studio-Kopfhörerbeyerdynamic.deFOX - USB-Mikrofonbeyerdynamic.deCREATOR PRO - Studio-Bundle5132362.3M\n",
      "--------------------\n",
      "\n",
      "\n",
      "Shelbi Blackstone@therealsoulsoup·Jun 6I don’t understand why bugs come inside when they have a whole outside to themselves.36015K144K2.6M\n",
      "--------------------\n",
      "\n",
      "\n",
      "Axel Arigato@AxelarigatoAdThe Area Sneaker. Shop the latest colorways to drop at http://axelarigato.com/?twclid=2-37j8h210sxtgtmmbennpuj14t36526787.5M\n",
      "--------------------\n",
      "\n",
      "\n",
      "Anna Alexandrovich Alexis shcherbatsky karenin@_neckromancer_·Jun 5“sorry for the rant” ok but have u considered I’d catch a bullet for you ? Stand in a queue for hours if it meant seeing ur face in the end ? take the long way home bcs I love every second spent w you ? Have you? u silly lil friend of mine 21315K69K2.2M\n",
      "--------------------\n",
      "\n",
      "\n",
      "Elon Musk@elonmusk·9hStarship separates from booster2K6.7K114K16M\n",
      "--------------------\n",
      "\n",
      "\n",
      "just maureen 2.0 @thesewcialist·Jun 5I’m sorry. 30 hrs a week is NOT part time \n",
      "\n",
      "30 hrs a week is just a way to get full time work out if someone without giving them benefits1.3K10K101K3.4M\n",
      "--------------------\n",
      "\n",
      "\n",
      "DiscussingFilm@DiscussingFilm·9hTimothy Olyphant will voice The Terminator in the ‘TERMINATOR’ anime series.\n",
      "\n",
      "Releasing in September on Netflix.1401.3K17K761K\n",
      "--------------------\n",
      "\n",
      "\n",
      "QuillBot@TheQuillBotAdIf you want help with your first draft, then QuillBot is the tool for you. It helps you fine-tune your writing, expand your vocabulary, and eliminate any errors. Check it out today.736635639K\n",
      "--------------------\n",
      "\n",
      "\n",
      "Elon Musk@elonmusk·15hAccurate Quotejordan@AstroJordy·17hthis sums up the final 5 minutes of the flight test this morning2.6K6.8K104K20M\n",
      "--------------------\n",
      "\n",
      "\n",
      "Shelbi Blackstone@therealsoulsoup·Jun 6I don’t understand why bugs come inside when they have a whole outside to themselves.36015K144K2.6M\n",
      "--------------------\n",
      "\n",
      "\n",
      "QuillBot@TheQuillBotAdIf you want help with your first draft, then QuillBot is the tool for you. It helps you fine-tune your writing, expand your vocabulary, and eliminate any errors. Check it out today.736635639K\n",
      "--------------------\n",
      "\n",
      "\n",
      "Elon Musk@elonmusk·17hDespite loss of many tiles and a damaged flap, Starship made it all the way to a soft landing in the ocean!\n",
      "\n",
      "Congratulations @SpaceX team on an epic achievement!!QuoteSpaceX@SpaceX·17hSplashdown confirmed! Congratulations to the entire SpaceX team on an exciting fourth flight test of Starship!7.3K17K173K28M\n",
      "--------------------\n",
      "\n",
      "\n",
      "Elon Musk@elonmusk·17hDespite loss of many tiles and a damaged flap, Starship made it all the way to a soft landing in the ocean!\n",
      "\n",
      "Congratulations @SpaceX team on an epic achievement!!QuoteSpaceX@SpaceX·17hSplashdown confirmed! Congratulations to the entire SpaceX team on an exciting fourth flight test of Starship!7.3K17K173K28M\n",
      "--------------------\n",
      "\n",
      "\n",
      "Historic Vids@historyinmemes·Jun 6Pablo Picasso once said, \"My mother said to me, if you are a soldier, you will became a general. If you are a monk will become the Pope. Instead, I was a painter, and became Picasso.\"2362.9K38K6.9M\n",
      "--------------------\n",
      "\n",
      "\n"
     ]
    }
   ],
   "source": [
    "for txt in tweet_texts:\n",
    "    print(txt)\n",
    "    print('--------------------')\n",
    "    print('\\n')"
   ]
  },
  {
   "cell_type": "markdown",
   "metadata": {},
   "source": [
    "#### Demonstration of Tweet Text Sanitization"
   ]
  },
  {
   "cell_type": "code",
   "execution_count": 4,
   "metadata": {},
   "outputs": [
    {
     "name": "stdout",
     "output_type": "stream",
     "text": [
      "Elon Musk@elonmusk·9hStarship reentering like a meteor5.8K22K387K17M\n",
      "--------------------\n",
      "9hStarship reentering like a meteor5.8K22K387K17M\n",
      "--------------------\n",
      "Starship reentering like a meteor5.8K22K387K17M\n",
      "--------------------\n",
      "Starship reentering like a meteor\n",
      "--------------------\n"
     ]
    }
   ],
   "source": [
    "#select_tweet = 'Historic Vids@historyinmemes·10hRussian hockey is different man1446315.9K1.4M'\n",
    "select_tweet = tweet_texts[0]\n",
    "print(select_tweet)\n",
    "print('--------------------')\n",
    "\n",
    "if re.match(r'^[^@]+@[^@]+·', select_tweet):\n",
    "    text = re.sub(r'^[^@]+@[^@]+·', '', select_tweet)\n",
    "    print(text)\n",
    "    print('--------------------')\n",
    "\n",
    "    text = re.sub(r'^(?:[A-Za-z]{3}\\s\\d+|\\d+[hm])', '', text)\n",
    "    print(text)\n",
    "    print('--------------------')\n",
    "\n",
    "    last_word = text.split()\n",
    "    last_word = last_word[-1]\n",
    "    if bool(re.search(r'\\d', last_word)):\n",
    "        text = text.replace(last_word, '')\n",
    "        last_word = last_word[:re.search(r'\\d', last_word).start()]\n",
    "        text = text + last_word\n",
    "        print(text)\n",
    "        print('--------------------')\n",
    "\n",
    "else:\n",
    "    print('Tweet is an AD!')"
   ]
  }
 ],
 "metadata": {
  "kernelspec": {
   "display_name": "Python 3",
   "language": "python",
   "name": "python3"
  },
  "language_info": {
   "codemirror_mode": {
    "name": "ipython",
    "version": 3
   },
   "file_extension": ".py",
   "mimetype": "text/x-python",
   "name": "python",
   "nbconvert_exporter": "python",
   "pygments_lexer": "ipython3",
   "version": "3.10.11"
  }
 },
 "nbformat": 4,
 "nbformat_minor": 2
}
