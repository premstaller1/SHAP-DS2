{
 "cells": [
  {
   "cell_type": "code",
   "execution_count": 41,
   "id": "1ff33513",
   "metadata": {},
   "outputs": [],
   "source": [
    "import pandas as pd\n",
    "import shap\n",
    "import matplotlib.pyplot as plt\n",
    "import numpy as np"
   ]
  },
  {
   "cell_type": "code",
   "execution_count": 3,
   "id": "9396b443",
   "metadata": {},
   "outputs": [
    {
     "data": {
      "text/html": [
       "<div>\n",
       "<style scoped>\n",
       "    .dataframe tbody tr th:only-of-type {\n",
       "        vertical-align: middle;\n",
       "    }\n",
       "\n",
       "    .dataframe tbody tr th {\n",
       "        vertical-align: top;\n",
       "    }\n",
       "\n",
       "    .dataframe thead th {\n",
       "        text-align: right;\n",
       "    }\n",
       "</style>\n",
       "<table border=\"1\" class=\"dataframe\">\n",
       "  <thead>\n",
       "    <tr style=\"text-align: right;\">\n",
       "      <th></th>\n",
       "      <th>timestamp</th>\n",
       "      <th>tweet_text</th>\n",
       "      <th>tweet_url</th>\n",
       "      <th>tweet_type</th>\n",
       "      <th>price_of_ticker</th>\n",
       "      <th>change_of_ticker</th>\n",
       "      <th>tickers_mentioned</th>\n",
       "      <th>category</th>\n",
       "    </tr>\n",
       "  </thead>\n",
       "  <tbody>\n",
       "    <tr>\n",
       "      <th>0</th>\n",
       "      <td>2023-11-15T09:36:42.028000+00:00</td>\n",
       "      <td>$GOLD's Massive Range.\\n\\nIn the past ~year we...</td>\n",
       "      <td>https://twitter.com/user/status/17247221551437...</td>\n",
       "      <td>tweet</td>\n",
       "      <td>['15.71']</td>\n",
       "      <td>['+3.69%']</td>\n",
       "      <td>['$GOLD']</td>\n",
       "      <td>stock_images</td>\n",
       "    </tr>\n",
       "    <tr>\n",
       "      <th>1</th>\n",
       "      <td>2023-11-15T06:01:59.788000+00:00</td>\n",
       "      <td>RT @SmartReversals: $SPX - Daily Chart:\\n\\n✅Ta...</td>\n",
       "      <td>https://twitter.com/user/status/17246687922221...</td>\n",
       "      <td>retweet</td>\n",
       "      <td>['4495.71']</td>\n",
       "      <td>['+1.87%']</td>\n",
       "      <td>['$SPX']</td>\n",
       "      <td>stock_images</td>\n",
       "    </tr>\n",
       "    <tr>\n",
       "      <th>2</th>\n",
       "      <td>2023-11-15T06:01:55.590000+00:00</td>\n",
       "      <td>RT @SmartReversals: $NDX - Daily Chart:\\n\\n✅Ta...</td>\n",
       "      <td>https://twitter.com/user/status/17246687824535...</td>\n",
       "      <td>retweet</td>\n",
       "      <td>['15812.473']</td>\n",
       "      <td>['+2.08%']</td>\n",
       "      <td>['$NDX']</td>\n",
       "      <td>stock_images</td>\n",
       "    </tr>\n",
       "    <tr>\n",
       "      <th>3</th>\n",
       "      <td>2023-11-15T06:01:51.329000+00:00</td>\n",
       "      <td>RT @SmartReversals: $IWM - Daily Chart:\\n\\n✅Ta...</td>\n",
       "      <td>https://twitter.com/user/status/17246687591081...</td>\n",
       "      <td>retweet</td>\n",
       "      <td>['178.46']</td>\n",
       "      <td>['+5.21%']</td>\n",
       "      <td>['$IWM']</td>\n",
       "      <td>stock_images</td>\n",
       "    </tr>\n",
       "    <tr>\n",
       "      <th>4</th>\n",
       "      <td>2023-11-15T04:01:49.009000+00:00</td>\n",
       "      <td>RT @coiledspringcap: Everyone has been concern...</td>\n",
       "      <td>https://twitter.com/user/status/17246376898767...</td>\n",
       "      <td>retweet</td>\n",
       "      <td>['4495.71']</td>\n",
       "      <td>['+1.87%']</td>\n",
       "      <td>['$SPX']</td>\n",
       "      <td>stock_images</td>\n",
       "    </tr>\n",
       "  </tbody>\n",
       "</table>\n",
       "</div>"
      ],
      "text/plain": [
       "                          timestamp  \\\n",
       "0  2023-11-15T09:36:42.028000+00:00   \n",
       "1  2023-11-15T06:01:59.788000+00:00   \n",
       "2  2023-11-15T06:01:55.590000+00:00   \n",
       "3  2023-11-15T06:01:51.329000+00:00   \n",
       "4  2023-11-15T04:01:49.009000+00:00   \n",
       "\n",
       "                                          tweet_text  \\\n",
       "0  $GOLD's Massive Range.\\n\\nIn the past ~year we...   \n",
       "1  RT @SmartReversals: $SPX - Daily Chart:\\n\\n✅Ta...   \n",
       "2  RT @SmartReversals: $NDX - Daily Chart:\\n\\n✅Ta...   \n",
       "3  RT @SmartReversals: $IWM - Daily Chart:\\n\\n✅Ta...   \n",
       "4  RT @coiledspringcap: Everyone has been concern...   \n",
       "\n",
       "                                           tweet_url tweet_type  \\\n",
       "0  https://twitter.com/user/status/17247221551437...      tweet   \n",
       "1  https://twitter.com/user/status/17246687922221...    retweet   \n",
       "2  https://twitter.com/user/status/17246687824535...    retweet   \n",
       "3  https://twitter.com/user/status/17246687591081...    retweet   \n",
       "4  https://twitter.com/user/status/17246376898767...    retweet   \n",
       "\n",
       "  price_of_ticker change_of_ticker tickers_mentioned      category  \n",
       "0       ['15.71']       ['+3.69%']         ['$GOLD']  stock_images  \n",
       "1     ['4495.71']       ['+1.87%']          ['$SPX']  stock_images  \n",
       "2   ['15812.473']       ['+2.08%']          ['$NDX']  stock_images  \n",
       "3      ['178.46']       ['+5.21%']          ['$IWM']  stock_images  \n",
       "4     ['4495.71']       ['+1.87%']          ['$SPX']  stock_images  "
      ]
     },
     "execution_count": 3,
     "metadata": {},
     "output_type": "execute_result"
    }
   ],
   "source": [
    "df = pd.read_csv('data/finance_stocks/finance_stocks-train.csv', nrows=10)\n",
    "\n",
    "df.head()"
   ]
  },
  {
   "cell_type": "code",
   "execution_count": 4,
   "id": "fedcf754",
   "metadata": {},
   "outputs": [
    {
     "name": "stderr",
     "output_type": "stream",
     "text": [
      "/Users/pascalcsukovits/Library/Python/3.9/lib/python/site-packages/urllib3/__init__.py:35: NotOpenSSLWarning: urllib3 v2 only supports OpenSSL 1.1.1+, currently the 'ssl' module is compiled with 'LibreSSL 2.8.3'. See: https://github.com/urllib3/urllib3/issues/3020\n",
      "  warnings.warn(\n"
     ]
    }
   ],
   "source": [
    "from transformers import pipeline"
   ]
  },
  {
   "cell_type": "code",
   "execution_count": 5,
   "id": "91e41dd1",
   "metadata": {},
   "outputs": [],
   "source": [
    "pipe = pipeline(\"text-classification\", model=\"mrm8488/distilroberta-finetuned-financial-news-sentiment-analysis\")\n"
   ]
  },
  {
   "cell_type": "code",
   "execution_count": 25,
   "id": "006b3c7f",
   "metadata": {},
   "outputs": [],
   "source": [
    "predictions = [pipe(text)[0]['label'] for text in df[\"tweet_text\"]]\n",
    "df['Sentiment'] = predictions"
   ]
  },
  {
   "cell_type": "code",
   "execution_count": 31,
   "id": "36542a45",
   "metadata": {},
   "outputs": [
    {
     "data": {
      "text/html": [
       "<div>\n",
       "<style scoped>\n",
       "    .dataframe tbody tr th:only-of-type {\n",
       "        vertical-align: middle;\n",
       "    }\n",
       "\n",
       "    .dataframe tbody tr th {\n",
       "        vertical-align: top;\n",
       "    }\n",
       "\n",
       "    .dataframe thead th {\n",
       "        text-align: right;\n",
       "    }\n",
       "</style>\n",
       "<table border=\"1\" class=\"dataframe\">\n",
       "  <thead>\n",
       "    <tr style=\"text-align: right;\">\n",
       "      <th></th>\n",
       "      <th>Sentiment</th>\n",
       "      <th>tweet_text</th>\n",
       "    </tr>\n",
       "  </thead>\n",
       "  <tbody>\n",
       "    <tr>\n",
       "      <th>0</th>\n",
       "      <td>positive</td>\n",
       "      <td>$GOLD's Massive Range.\\n\\nIn the past ~year we...</td>\n",
       "    </tr>\n",
       "    <tr>\n",
       "      <th>1</th>\n",
       "      <td>neutral</td>\n",
       "      <td>RT @SmartReversals: $SPX - Daily Chart:\\n\\n✅Ta...</td>\n",
       "    </tr>\n",
       "    <tr>\n",
       "      <th>2</th>\n",
       "      <td>neutral</td>\n",
       "      <td>RT @SmartReversals: $NDX - Daily Chart:\\n\\n✅Ta...</td>\n",
       "    </tr>\n",
       "    <tr>\n",
       "      <th>3</th>\n",
       "      <td>neutral</td>\n",
       "      <td>RT @SmartReversals: $IWM - Daily Chart:\\n\\n✅Ta...</td>\n",
       "    </tr>\n",
       "    <tr>\n",
       "      <th>4</th>\n",
       "      <td>negative</td>\n",
       "      <td>RT @coiledspringcap: Everyone has been concern...</td>\n",
       "    </tr>\n",
       "    <tr>\n",
       "      <th>5</th>\n",
       "      <td>positive</td>\n",
       "      <td>RT @coiledspringcap: #SPX equal weight breakin...</td>\n",
       "    </tr>\n",
       "    <tr>\n",
       "      <th>6</th>\n",
       "      <td>positive</td>\n",
       "      <td>RT @TriggerTrades: $SPX remained above 4375 th...</td>\n",
       "    </tr>\n",
       "    <tr>\n",
       "      <th>7</th>\n",
       "      <td>neutral</td>\n",
       "      <td>RT @TrendSpider: $SPY, $QQQ and $AAPL all prin...</td>\n",
       "    </tr>\n",
       "    <tr>\n",
       "      <th>8</th>\n",
       "      <td>neutral</td>\n",
       "      <td>$NET \\n\\nWas waiting on Cloudflare and it erup...</td>\n",
       "    </tr>\n",
       "    <tr>\n",
       "      <th>9</th>\n",
       "      <td>neutral</td>\n",
       "      <td>Currently at $2860--Documenting everything in ...</td>\n",
       "    </tr>\n",
       "  </tbody>\n",
       "</table>\n",
       "</div>"
      ],
      "text/plain": [
       "  Sentiment                                         tweet_text\n",
       "0  positive  $GOLD's Massive Range.\\n\\nIn the past ~year we...\n",
       "1   neutral  RT @SmartReversals: $SPX - Daily Chart:\\n\\n✅Ta...\n",
       "2   neutral  RT @SmartReversals: $NDX - Daily Chart:\\n\\n✅Ta...\n",
       "3   neutral  RT @SmartReversals: $IWM - Daily Chart:\\n\\n✅Ta...\n",
       "4  negative  RT @coiledspringcap: Everyone has been concern...\n",
       "5  positive  RT @coiledspringcap: #SPX equal weight breakin...\n",
       "6  positive  RT @TriggerTrades: $SPX remained above 4375 th...\n",
       "7   neutral  RT @TrendSpider: $SPY, $QQQ and $AAPL all prin...\n",
       "8   neutral  $NET \\n\\nWas waiting on Cloudflare and it erup...\n",
       "9   neutral  Currently at $2860--Documenting everything in ..."
      ]
     },
     "execution_count": 31,
     "metadata": {},
     "output_type": "execute_result"
    }
   ],
   "source": [
    "df[['Sentiment', 'tweet_text']]"
   ]
  },
  {
   "cell_type": "code",
   "execution_count": 32,
   "id": "aa10f601",
   "metadata": {},
   "outputs": [
    {
     "name": "stderr",
     "output_type": "stream",
     "text": [
      "PartitionExplainer explainer: 11it [02:03, 12.38s/it]                        \n"
     ]
    }
   ],
   "source": [
    "explainer = shap.Explainer(pipe)\n",
    "shap_values = explainer(df[\"tweet_text\"])"
   ]
  },
  {
   "cell_type": "code",
   "execution_count": 84,
   "id": "7e016eec",
   "metadata": {},
   "outputs": [
    {
     "name": "stdout",
     "output_type": "stream",
     "text": [
      "[\"$GOLD's Massive Range.\\n\\nIn the past ~year we've swept both the lows and highs of this massive range.\\n\\nWith the yesterday's low CPI print and falling yields we're seeing some upward momentum again.\\n\\nWill it finally break through?\\n\\nTrade it using crypto: https://t.co/VZNADvrnZu\", 'RT @SmartReversals: $SPX - Daily Chart:\\n\\n✅Target for the bull move mentioned at the beginning of last week and not disregarded after Thursd…', 'RT @SmartReversals: $NDX - Daily Chart:\\n\\n✅Target for the bull move mentioned at the beginning of last week and not disregarded after Thursd…', 'RT @SmartReversals: $IWM - Daily Chart:\\n\\n✅Target for the bull move mentioned last week: 180\\n🎯High of the day today: 178.5\\n\\n✅Bullish crossov…', 'RT @coiledspringcap: Everyone has been concerned about the concentration in the #stockmarket \\n\\nwell, the #Nasdaq equal weight index just pe…', 'RT @coiledspringcap: #SPX equal weight breaking out of its consolidation\\n\\nseems meaningful. \\n\\n#stocks #stockmarket #investing', 'RT @TriggerTrades: $SPX remained above 4375 then extended the B-Wave to the secondary 4500 termination target.\\n\\nThere may be modest upside…', 'RT @TrendSpider: $SPY, $QQQ and $AAPL all printed TW Pivot buy signals in unison at the October lows...\\n\\nI think you know what happened nex…', '$NET \\n\\nWas waiting on Cloudflare and it erupted today and I missed it, watching closely for an entry but I think this goes', 'Currently at $2860--Documenting everything in discord\\n\\nToday:\\n\\n$AI Trade +200%\\n\\n•Still have some promo spots open\\n\\n•Code: 2k / Join for only $20 Buckaroos\\n\\nhttps://t.co/rguT2pTccO \\n\\n> [@Albert_trades](https://twitter.com/Albert_trades):\\n> Started a 2k Account last week--documenting all trades in the discord.  \\n> \\n> •50% Off first month, to tryout the discord \\n> \\n> •Code: 𝟐𝐤 / Follow along for only 20 smackaroos.\\n> \\n>']\n"
     ]
    }
   ],
   "source": [
    "print(texts)"
   ]
  },
  {
   "cell_type": "markdown",
   "id": "a5b2dee9",
   "metadata": {},
   "source": []
  }
 ],
 "metadata": {
  "kernelspec": {
   "display_name": "Python 3 (ipykernel)",
   "language": "python",
   "name": "python3"
  },
  "language_info": {
   "codemirror_mode": {
    "name": "ipython",
    "version": 3
   },
   "file_extension": ".py",
   "mimetype": "text/x-python",
   "name": "python",
   "nbconvert_exporter": "python",
   "pygments_lexer": "ipython3",
   "version": "3.11.6"
  }
 },
 "nbformat": 4,
 "nbformat_minor": 5
}
