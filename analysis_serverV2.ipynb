{
 "cells": [
  {
   "cell_type": "code",
   "execution_count": 20,
   "metadata": {},
   "outputs": [
    {
     "name": "stdout",
     "output_type": "stream",
     "text": [
      "Opening tweet URL\n"
     ]
    }
   ],
   "source": [
    "import re\n",
    "import time\n",
    "\n",
    "from selenium import webdriver\n",
    "from selenium.webdriver.common.by import By\n",
    "from selenium.webdriver.support.ui import WebDriverWait\n",
    "from selenium.webdriver.support import expected_conditions as EC\n",
    "\n",
    "\n",
    "\n",
    "def fetch_tweet_text(url):\n",
    "    # Setup Chrome WebDriver\n",
    "    # Set up the Selenium webdriver\n",
    "    options = webdriver.ChromeOptions()\n",
    "    options.add_argument(\"--headless\")  # Run Chrome in headless mode\n",
    "    driver = webdriver.Chrome(options=options)\n",
    "\n",
    "    # Open the tweet URL\n",
    "    print(\"Opening tweet URL\")\n",
    "    driver.get(url)\n",
    "    url\n",
    "    print(\"URL opened\")\n",
    "    time.sleep(10)  # Allow time for the page to load\n",
    "    print(\"Page loaded\")\n",
    "\n",
    "    try:\n",
    "        # Wait for the tweet text element to be present\n",
    "        tweet_text_element = WebDriverWait(driver, 10).until(\n",
    "            EC.presence_of_element_located((By.CSS_SELECTOR, 'div.css-146c3p1.r-bcqeeo.r-1ttztb7.r-qvutc0.r-37j5jr.r-1inkyih.r-16dba41.r-bnwqim.r-135wba7'))\n",
    "        )\n",
    "        tweet_text = tweet_text_element.text\n",
    "    except Exception as e:\n",
    "        print(f\"Error fetching tweet text: {e}\")\n",
    "        tweet_text = \"\"\n",
    "    finally:\n",
    "        driver.quit()\n",
    "    \n",
    "    return tweet_text\n",
    "\n",
    "def process_tweet(url):\n",
    "    tweet_text = fetch_tweet_text(url)\n",
    "    print(\"Original Tweet Text:\", tweet_text)\n",
    "    return tweet_text\n",
    "\n",
    "if __name__ == '__main__':\n",
    "    tweet_url = 'https://x.com/SERobinsonJr/status/1802789691290247629'\n",
    "    process_tweet(tweet_url)\n"
   ]
  }
 ],
 "metadata": {
  "kernelspec": {
   "display_name": "Python 3",
   "language": "python",
   "name": "python3"
  },
  "language_info": {
   "codemirror_mode": {
    "name": "ipython",
    "version": 3
   },
   "file_extension": ".py",
   "mimetype": "text/x-python",
   "name": "python",
   "nbconvert_exporter": "python",
   "pygments_lexer": "ipython3",
   "version": "3.11.9"
  }
 },
 "nbformat": 4,
 "nbformat_minor": 2
}
